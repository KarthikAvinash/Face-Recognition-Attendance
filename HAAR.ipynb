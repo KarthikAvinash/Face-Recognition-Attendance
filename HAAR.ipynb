{
 "cells": [
  {
   "cell_type": "code",
   "execution_count": 1,
   "metadata": {},
   "outputs": [],
   "source": [
    "import cv2"
   ]
  },
  {
   "cell_type": "code",
   "execution_count": 2,
   "metadata": {},
   "outputs": [],
   "source": [
    "import numpy as np\n"
   ]
  },
  {
   "cell_type": "code",
   "execution_count": 4,
   "metadata": {},
   "outputs": [
    {
     "name": "stderr",
     "output_type": "stream",
     "text": [
      "<>:9: SyntaxWarning: \"is\" with a literal. Did you mean \"==\"?\n",
      "<>:9: SyntaxWarning: \"is\" with a literal. Did you mean \"==\"?\n",
      "C:\\Users\\manda\\AppData\\Local\\Temp\\ipykernel_12836\\2282576020.py:9: SyntaxWarning: \"is\" with a literal. Did you mean \"==\"?\n",
      "  if faces is ():\n"
     ]
    }
   ],
   "source": [
    "face_classifier=cv2.CascadeClassifier('./Xmldata/haarcascade_frontalface_default.xml')\n",
    "\n",
    "image=cv2.imread('./images/group.jpg')\n",
    "\n",
    "gray=cv2.cvtColor(image,cv2.COLOR_BGR2GRAY)\n",
    "\n",
    "faces=face_classifier.detectMultiScale(gray,1.2,5)\n",
    "\n",
    "if faces is ():\n",
    "    print('No face found')\n",
    "\n",
    "for i,(x,y,w,h) in enumerate(faces):\n",
    "    # center = (x + w//2, y + h//2)\n",
    "    # cv2.ellipse(image, center, (w//2, h//2), 0, 0, 360, (255, 0, 255), 4)\n",
    "    cv2.rectangle(image,(x,y),(x+w,y+h),(127,0,225),2)\n",
    "    cv2.imshow('Face Detection',image)\n",
    "    face_crop=image[y:y+h,x:x+w]\n",
    "    cropped_path=f'cropped_images/cropped_face{i}.jpg'\n",
    "    cv2.imwrite(cropped_path,face_crop)\n",
    "    cv2.waitKey(0)\n",
    "\n",
    "cv2.destroyAllWindows()"
   ]
  },
  {
   "cell_type": "markdown",
   "metadata": {},
   "source": [
    "face and eyes detection"
   ]
  },
  {
   "cell_type": "code",
   "execution_count": null,
   "metadata": {},
   "outputs": [],
   "source": []
  },
  {
   "cell_type": "markdown",
   "metadata": {},
   "source": []
  }
 ],
 "metadata": {
  "kernelspec": {
   "display_name": "Python 3",
   "language": "python",
   "name": "python3"
  },
  "language_info": {
   "codemirror_mode": {
    "name": "ipython",
    "version": 3
   },
   "file_extension": ".py",
   "mimetype": "text/x-python",
   "name": "python",
   "nbconvert_exporter": "python",
   "pygments_lexer": "ipython3",
   "version": "3.10.5"
  },
  "orig_nbformat": 4
 },
 "nbformat": 4,
 "nbformat_minor": 2
}
